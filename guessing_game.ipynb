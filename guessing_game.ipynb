{
 "cells": [
  {
   "cell_type": "code",
   "execution_count": null,
   "metadata": {},
   "outputs": [],
   "source": []
  },
  {
   "cell_type": "code",
   "execution_count": 1,
   "metadata": {},
   "outputs": [
    {
     "name": "stdout",
     "output_type": "stream",
     "text": [
      "you lose!\n"
     ]
    }
   ],
   "source": [
    "secret_word = \"coffee\"\n",
    "guess = \" \"\n",
    "guess_count = 0\n",
    "guess_limit = 3\n",
    "out_of_guesses = False\n",
    "while guess !=\"coffee\" and not (out_of_guesses):\n",
    "    if guess_count < guess_limit :\n",
    "        guess = input(\"Enter your guess\")\n",
    "        guess_count += 1\n",
    "    else :\n",
    "            out_of_guesses = True\n",
    "            if out_of_guesses :\n",
    "                print (\"you lose!\")\n",
    "            else:\n",
    "                    print(\"you win!\")\n"
   ]
  }
 ],
 "metadata": {
  "kernelspec": {
   "display_name": "Python 3",
   "language": "python",
   "name": "python3"
  },
  "language_info": {
   "codemirror_mode": {
    "name": "ipython",
    "version": 3
   },
   "file_extension": ".py",
   "mimetype": "text/x-python",
   "name": "python",
   "nbconvert_exporter": "python",
   "pygments_lexer": "ipython3",
   "version": "3.13.0"
  }
 },
 "nbformat": 4,
 "nbformat_minor": 2
}
